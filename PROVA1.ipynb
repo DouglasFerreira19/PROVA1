{
 "cells": [
  {
   "cell_type": "code",
   "execution_count": 3,
   "id": "d231e821-4d67-46a7-a1fc-0bc5bc853469",
   "metadata": {},
   "outputs": [],
   "source": [
    "lista = ListaEncadeada()\n",
    "class No:\n",
    "    def __init__(self, valor):\n",
    "        self.valor = valor\n",
    "        self.proximo = None\n",
    "\n",
    "class ListaEncadeada:\n",
    "    def __init__(self):\n",
    "        self.inicio = None\n",
    "\n",
    "    def inserir(self, valor):\n",
    "        novo_no = No(valor)\n",
    "        if self.inicio is None:\n",
    "            self.inicio = novo_no\n",
    "        else:\n",
    "            atual = self.inicio\n",
    "            while atual.proximo:\n",
    "                atual = atual.proximo\n",
    "            atual.proximo = novo_no\n",
    "\n",
    "    def contar(self):\n",
    "        contador = 0\n",
    "        atual = self.inicio\n",
    "        while atual is not None:\n",
    "            contador += 1\n",
    "            atual = atual.proximo\n",
    "        return contador"
   ]
  },
  {
   "cell_type": "code",
   "execution_count": 7,
   "id": "6e8b24bd-4def-4c88-a72d-daf82a564fc7",
   "metadata": {},
   "outputs": [],
   "source": [
    "lista = ListaEncadeada()\n",
    "lista.inserir(5)\n",
    "lista.inserir(15)\n",
    "lista.inserir(25)"
   ]
  },
  {
   "cell_type": "code",
   "execution_count": 9,
   "id": "28782696-f723-4126-855c-12b01f459876",
   "metadata": {},
   "outputs": [
    {
     "name": "stdout",
     "output_type": "stream",
     "text": [
      "3\n"
     ]
    }
   ],
   "source": [
    "print(lista.contar())"
   ]
  },
  {
   "cell_type": "code",
   "execution_count": null,
   "id": "155628a2-0fc4-4c42-b3ef-ce37a92f0395",
   "metadata": {},
   "outputs": [],
   "source": []
  }
 ],
 "metadata": {
  "kernelspec": {
   "display_name": "Python [conda env:base] *",
   "language": "python",
   "name": "conda-base-py"
  },
  "language_info": {
   "codemirror_mode": {
    "name": "ipython",
    "version": 3
   },
   "file_extension": ".py",
   "mimetype": "text/x-python",
   "name": "python",
   "nbconvert_exporter": "python",
   "pygments_lexer": "ipython3",
   "version": "3.12.7"
  }
 },
 "nbformat": 4,
 "nbformat_minor": 5
}
